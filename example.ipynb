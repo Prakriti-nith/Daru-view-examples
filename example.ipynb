{
 "cells": [
  {
   "cell_type": "code",
   "execution_count": 1,
   "metadata": {},
   "outputs": [
    {
     "name": "stderr",
     "output_type": "stream",
     "text": [
      "\n",
      "Install the spreadsheet gem version ~>1.1.1 for using spreadsheet functions.\n",
      "\n",
      "Install the mechanize gem version ~>2.7.5 for using mechanize functions.\n"
     ]
    },
    {
     "data": {
      "application/javascript": [
       "if(window['d3'] === undefined ||\n",
       "   window['Nyaplot'] === undefined){\n",
       "    var path = {\"d3\":\"https://cdnjs.cloudflare.com/ajax/libs/d3/3.5.5/d3.min\",\"downloadable\":\"http://cdn.rawgit.com/domitry/d3-downloadable/master/d3-downloadable\"};\n",
       "\n",
       "\n",
       "\n",
       "    var shim = {\"d3\":{\"exports\":\"d3\"},\"downloadable\":{\"exports\":\"downloadable\"}};\n",
       "\n",
       "    require.config({paths: path, shim:shim});\n",
       "\n",
       "\n",
       "require(['d3'], function(d3){window['d3']=d3;console.log('finished loading d3');require(['downloadable'], function(downloadable){window['downloadable']=downloadable;console.log('finished loading downloadable');\n",
       "\n",
       "\tvar script = d3.select(\"head\")\n",
       "\t    .append(\"script\")\n",
       "\t    .attr(\"src\", \"http://cdn.rawgit.com/domitry/Nyaplotjs/master/release/nyaplot.js\")\n",
       "\t    .attr(\"async\", true);\n",
       "\n",
       "\tscript[0][0].onload = script[0][0].onreadystatechange = function(){\n",
       "\n",
       "\n",
       "\t    var event = document.createEvent(\"HTMLEvents\");\n",
       "\t    event.initEvent(\"load_nyaplot\",false,false);\n",
       "\t    window.dispatchEvent(event);\n",
       "\t    console.log('Finished loading Nyaplotjs');\n",
       "\n",
       "\t};\n",
       "\n",
       "\n",
       "});});\n",
       "}\n"
      ],
      "text/plain": [
       "\"if(window['d3'] === undefined ||\\n   window['Nyaplot'] === undefined){\\n    var path = {\\\"d3\\\":\\\"https://cdnjs.cloudflare.com/ajax/libs/d3/3.5.5/d3.min\\\",\\\"downloadable\\\":\\\"http://cdn.rawgit.com/domitry/d3-downloadable/master/d3-downloadable\\\"};\\n\\n\\n\\n    var shim = {\\\"d3\\\":{\\\"exports\\\":\\\"d3\\\"},\\\"downloadable\\\":{\\\"exports\\\":\\\"downloadable\\\"}};\\n\\n    require.config({paths: path, shim:shim});\\n\\n\\nrequire(['d3'], function(d3){window['d3']=d3;console.log('finished loading d3');require(['downloadable'], function(downloadable){window['downloadable']=downloadable;console.log('finished loading downloadable');\\n\\n\\tvar script = d3.select(\\\"head\\\")\\n\\t    .append(\\\"script\\\")\\n\\t    .attr(\\\"src\\\", \\\"http://cdn.rawgit.com/domitry/Nyaplotjs/master/release/nyaplot.js\\\")\\n\\t    .attr(\\\"async\\\", true);\\n\\n\\tscript[0][0].onload = script[0][0].onreadystatechange = function(){\\n\\n\\n\\t    var event = document.createEvent(\\\"HTMLEvents\\\");\\n\\t    event.initEvent(\\\"load_nyaplot\\\",false,false);\\n\\t    window.dispatchEvent(event);\\n\\t    console.log('Finished loading Nyaplotjs');\\n\\n\\t};\\n\\n\\n});});\\n}\\n\""
      ]
     },
     "metadata": {},
     "output_type": "display_data"
    },
    {
     "data": {
      "text/plain": [
       "true"
      ]
     },
     "execution_count": 1,
     "metadata": {},
     "output_type": "execute_result"
    }
   ],
   "source": [
    "require '~/daru-view/lib/daru/view'"
   ]
  },
  {
   "cell_type": "code",
   "execution_count": 2,
   "metadata": {},
   "outputs": [
    {
     "data": {
      "text/html": [
       "<!DOCTYPE html>\n",
       "<html>\n",
       "  <head>\n",
       "    <script src='http://code.jquery.com/jquery-1.11.3.min.js'></script>\n",
       "    <link href='https://nightly.datatables.net/css/jquery.dataTables.css' rel='stylesheet' type='text/css' />\n",
       "    <script src='https://nightly.datatables.net/js/jquery.dataTables.js'></script>\n",
       "  </head>\n",
       "  <body>\n",
       "    <p>hi</p>\n",
       "    <script>\n",
       "      $(document).ready(function() {\n",
       "        $('#example').DataTable();\n",
       "      } );\n",
       "    </script>\n",
       "  </body>\n",
       "  <table id='example' class='display' style='width:100%'>\n",
       "        <thead>\n",
       "            <tr>\n",
       "                <th>Name</th>\n",
       "                <th>Position</th>\n",
       "                <th>Office</th>\n",
       "                <th>Age</th>\n",
       "                <th>Start date</th>\n",
       "                <th>Salary</th>\n",
       "            </tr>\n",
       "        </thead>\n",
       "        <tbody>\n",
       "            <tr>\n",
       "                <td>Michael Bruce</td>\n",
       "                <td>Javascript Developer</td>\n",
       "                <td>Singapore</td>\n",
       "                <td>29</td>\n",
       "                <td>2011/06/27</td>\n",
       "                <td>$183,000</td>\n",
       "            </tr>\n",
       "            <tr>\n",
       "                <td>Donna Snider</td>\n",
       "                <td>Customer Support</td>\n",
       "                <td>New York</td>\n",
       "                <td>27</td>\n",
       "                <td>2011/01/25</td>\n",
       "                <td>$112,000</td>\n",
       "            </tr>\n",
       "        </tbody>\n",
       "        <tfoot>\n",
       "            <tr>\n",
       "                <th>Name</th>\n",
       "                <th>Position</th>\n",
       "                <th>Office</th>\n",
       "                <th>Age</th>\n",
       "                <th>Start date</th>\n",
       "                <th>Salary</th>\n",
       "            </tr>\n",
       "        </tfoot>\n",
       "    </table>\n",
       "</html>"
      ],
      "text/plain": [
       "\"<!DOCTYPE html>\\n<html>\\n  <head>\\n    <script src='http://code.jquery.com/jquery-1.11.3.min.js'></script>\\n    <link href='https://nightly.datatables.net/css/jquery.dataTables.css' rel='stylesheet' type='text/css' />\\n    <script src='https://nightly.datatables.net/js/jquery.dataTables.js'></script>\\n  </head>\\n  <body>\\n    <p>hi</p>\\n    <script>\\n      $(document).ready(function() {\\n        $('#example').DataTable();\\n      } );\\n    </script>\\n  </body>\\n  <table id='example' class='display' style='width:100%'>\\n        <thead>\\n            <tr>\\n                <th>Name</th>\\n                <th>Position</th>\\n                <th>Office</th>\\n                <th>Age</th>\\n                <th>Start date</th>\\n                <th>Salary</th>\\n            </tr>\\n        </thead>\\n        <tbody>\\n            <tr>\\n                <td>Michael Bruce</td>\\n                <td>Javascript Developer</td>\\n                <td>Singapore</td>\\n                <td>29</td>\\n                <td>2011/06/27</td>\\n                <td>$183,000</td>\\n            </tr>\\n            <tr>\\n                <td>Donna Snider</td>\\n                <td>Customer Support</td>\\n                <td>New York</td>\\n                <td>27</td>\\n                <td>2011/01/25</td>\\n                <td>$112,000</td>\\n            </tr>\\n        </tbody>\\n        <tfoot>\\n            <tr>\\n                <th>Name</th>\\n                <th>Position</th>\\n                <th>Office</th>\\n                <th>Age</th>\\n                <th>Start date</th>\\n                <th>Salary</th>\\n            </tr>\\n        </tfoot>\\n    </table>\\n</html>\""
      ]
     },
     "execution_count": 2,
     "metadata": {},
     "output_type": "execute_result"
    }
   ],
   "source": [
    "IRuby.html(\"<!DOCTYPE html>\n",
    "<html>\n",
    "  <head>\n",
    "    <script src='http://code.jquery.com/jquery-1.11.3.min.js'></script>\n",
    "    <link href='https://nightly.datatables.net/css/jquery.dataTables.css' rel='stylesheet' type='text/css' />\n",
    "    <script src='https://nightly.datatables.net/js/jquery.dataTables.js'></script>\n",
    "  </head>\n",
    "  <body>\n",
    "    <p>hi</p>\n",
    "    <script>\n",
    "      $(document).ready(function() {\n",
    "        $('#example').DataTable();\n",
    "      } );\n",
    "    </script>\n",
    "  </body>\n",
    "  <table id='example' class='display' style='width:100%'>\n",
    "        <thead>\n",
    "            <tr>\n",
    "                <th>Name</th>\n",
    "                <th>Position</th>\n",
    "                <th>Office</th>\n",
    "                <th>Age</th>\n",
    "                <th>Start date</th>\n",
    "                <th>Salary</th>\n",
    "            </tr>\n",
    "        </thead>\n",
    "        <tbody>\n",
    "            <tr>\n",
    "                <td>Michael Bruce</td>\n",
    "                <td>Javascript Developer</td>\n",
    "                <td>Singapore</td>\n",
    "                <td>29</td>\n",
    "                <td>2011/06/27</td>\n",
    "                <td>$183,000</td>\n",
    "            </tr>\n",
    "            <tr>\n",
    "                <td>Donna Snider</td>\n",
    "                <td>Customer Support</td>\n",
    "                <td>New York</td>\n",
    "                <td>27</td>\n",
    "                <td>2011/01/25</td>\n",
    "                <td>$112,000</td>\n",
    "            </tr>\n",
    "        </tbody>\n",
    "        <tfoot>\n",
    "            <tr>\n",
    "                <th>Name</th>\n",
    "                <th>Position</th>\n",
    "                <th>Office</th>\n",
    "                <th>Age</th>\n",
    "                <th>Start date</th>\n",
    "                <th>Salary</th>\n",
    "            </tr>\n",
    "        </tfoot>\n",
    "    </table>\n",
    "</html>\")"
   ]
  }
 ],
 "metadata": {
  "kernelspec": {
   "display_name": "Ruby 2.4.1",
   "language": "ruby",
   "name": "ruby"
  },
  "language_info": {
   "file_extension": ".rb",
   "mimetype": "application/x-ruby",
   "name": "ruby",
   "version": "2.4.1"
  }
 },
 "nbformat": 4,
 "nbformat_minor": 2
}
